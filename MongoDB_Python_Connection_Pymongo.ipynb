{
 "cells": [
  {
   "cell_type": "code",
   "execution_count": 1,
   "metadata": {},
   "outputs": [],
   "source": [
    "import pymongo"
   ]
  },
  {
   "cell_type": "code",
   "execution_count": 7,
   "metadata": {},
   "outputs": [],
   "source": [
    "client=pymongo.MongoClient('mongodb://127.0.0.1:27017/')\n",
    "\n",
    "mydb=client['Employee'] # creating a database employee if not present\n",
    "empinfo=mydb.employeeInformation #employeeinformation collection, empinfo is the collection."
   ]
  },
  {
   "cell_type": "code",
   "execution_count": 30,
   "metadata": {},
   "outputs": [],
   "source": [
    "record=[\n",
    "    {\n",
    "'first_name':'Manideep',\n",
    "'last_name':'Mittapalli'\n",
    "    },\n",
    "    {\n",
    "        'first_name':'Krishna',\n",
    "        'last_name':'Naik',\n",
    "        'age':25\n",
    "    },\n",
    "    {\n",
    "        'first_name':'Rama',\n",
    "        'last_name':'Chandra',\n",
    "        'age':35\n",
    "    }\n",
    "]"
   ]
  },
  {
   "cell_type": "code",
   "execution_count": 31,
   "metadata": {},
   "outputs": [
    {
     "data": {
      "text/plain": [
       "<pymongo.results.InsertManyResult at 0x1e2bab25108>"
      ]
     },
     "execution_count": 31,
     "metadata": {},
     "output_type": "execute_result"
    }
   ],
   "source": [
    "empinfo.insert_many(record)"
   ]
  },
  {
   "cell_type": "code",
   "execution_count": 32,
   "metadata": {},
   "outputs": [
    {
     "data": {
      "text/plain": [
       "{'_id': ObjectId('5f0545cddd137205c3423034'),\n",
       " 'first_name': 'Manideep',\n",
       " 'Last_name': 'Mittapalli'}"
      ]
     },
     "execution_count": 32,
     "metadata": {},
     "output_type": "execute_result"
    }
   ],
   "source": [
    "## \n",
    "empinfo.find_one()"
   ]
  },
  {
   "cell_type": "code",
   "execution_count": 33,
   "metadata": {},
   "outputs": [
    {
     "name": "stdout",
     "output_type": "stream",
     "text": [
      "{'_id': ObjectId('5f0545cddd137205c3423034'), 'first_name': 'Manideep', 'Last_name': 'Mittapalli'}\n",
      "{'_id': ObjectId('5f054699dd137205c342303b'), 'first_name': 'Manideep', 'Last_name': 'Mittapalli'}\n",
      "{'_id': ObjectId('5f054699dd137205c342303c'), 'first': 'Krishna', 'last': 'Naik'}\n",
      "{'_id': ObjectId('5f054a690c98e372695fe4b3'), 'first_name': 'Manideep', 'last_name': 'Mittapalli'}\n",
      "{'_id': ObjectId('5f054a690c98e372695fe4b4'), 'first_name': 'Krishna', 'last_name': 'Naik'}\n",
      "{'_id': ObjectId('5f0555ca0c98e372695fe4b5'), 'first_name': 'Manideep', 'last_name': 'Mittapalli'}\n",
      "{'_id': ObjectId('5f0555ca0c98e372695fe4b6'), 'first_name': 'Krishna', 'last_name': 'Naik'}\n",
      "{'_id': ObjectId('5f0555ca0c98e372695fe4b7'), 'first_name': 'Rama', 'last_name': 'Chandra'}\n",
      "{'_id': ObjectId('5f0556ef0c98e372695fe4b8'), 'first_name': 'Manideep', 'last_name': 'Mittapalli'}\n",
      "{'_id': ObjectId('5f0556ef0c98e372695fe4b9'), 'first_name': 'Krishna', 'last_name': 'Naik', 'age': 25}\n",
      "{'_id': ObjectId('5f0556ef0c98e372695fe4ba'), 'first_name': 'Rama', 'last_name': 'Chandra', 'age': 35}\n"
     ]
    }
   ],
   "source": [
    "# select * from empinfo.\n",
    "for record in empinfo.find({}):\n",
    "    print(record)"
   ]
  },
  {
   "cell_type": "code",
   "execution_count": 34,
   "metadata": {},
   "outputs": [
    {
     "name": "stdout",
     "output_type": "stream",
     "text": [
      "{'_id': ObjectId('5f0545cddd137205c3423034'), 'first_name': 'Manideep', 'Last_name': 'Mittapalli'}\n",
      "{'_id': ObjectId('5f054699dd137205c342303b'), 'first_name': 'Manideep', 'Last_name': 'Mittapalli'}\n",
      "{'_id': ObjectId('5f054a690c98e372695fe4b3'), 'first_name': 'Manideep', 'last_name': 'Mittapalli'}\n",
      "{'_id': ObjectId('5f0555ca0c98e372695fe4b5'), 'first_name': 'Manideep', 'last_name': 'Mittapalli'}\n",
      "{'_id': ObjectId('5f0556ef0c98e372695fe4b8'), 'first_name': 'Manideep', 'last_name': 'Mittapalli'}\n"
     ]
    }
   ],
   "source": [
    "for record in empinfo.find({'first_name':'Manideep'}):\n",
    "    print(record)    "
   ]
  },
  {
   "cell_type": "code",
   "execution_count": 35,
   "metadata": {},
   "outputs": [
    {
     "name": "stdout",
     "output_type": "stream",
     "text": [
      "{'_id': ObjectId('5f0545cddd137205c3423034'), 'first_name': 'Manideep', 'Last_name': 'Mittapalli'}\n",
      "{'_id': ObjectId('5f054699dd137205c342303b'), 'first_name': 'Manideep', 'Last_name': 'Mittapalli'}\n",
      "{'_id': ObjectId('5f054a690c98e372695fe4b3'), 'first_name': 'Manideep', 'last_name': 'Mittapalli'}\n",
      "{'_id': ObjectId('5f0555ca0c98e372695fe4b5'), 'first_name': 'Manideep', 'last_name': 'Mittapalli'}\n",
      "{'_id': ObjectId('5f0555ca0c98e372695fe4b7'), 'first_name': 'Rama', 'last_name': 'Chandra'}\n",
      "{'_id': ObjectId('5f0556ef0c98e372695fe4b8'), 'first_name': 'Manideep', 'last_name': 'Mittapalli'}\n",
      "{'_id': ObjectId('5f0556ef0c98e372695fe4ba'), 'first_name': 'Rama', 'last_name': 'Chandra', 'age': 35}\n"
     ]
    }
   ],
   "source": [
    "for record in empinfo.find({'first_name':{'$in':['Manideep','Rama']}}):\n",
    "    print(record) "
   ]
  },
  {
   "cell_type": "code",
   "execution_count": 36,
   "metadata": {},
   "outputs": [
    {
     "name": "stdout",
     "output_type": "stream",
     "text": [
      "{'_id': ObjectId('5f0555ca0c98e372695fe4b7'), 'first_name': 'Rama', 'last_name': 'Chandra'}\n",
      "{'_id': ObjectId('5f0556ef0c98e372695fe4ba'), 'first_name': 'Rama', 'last_name': 'Chandra', 'age': 35}\n"
     ]
    }
   ],
   "source": [
    "for record in empinfo.find({'first_name':{'$in':['Mani','Rama']}}):\n",
    "    print(record)"
   ]
  },
  {
   "cell_type": "code",
   "execution_count": null,
   "metadata": {},
   "outputs": [],
   "source": []
  },
  {
   "cell_type": "code",
   "execution_count": 40,
   "metadata": {},
   "outputs": [
    {
     "name": "stdout",
     "output_type": "stream",
     "text": [
      "{'_id': ObjectId('5f0556ef0c98e372695fe4b9'), 'first_name': 'Krishna', 'last_name': 'Naik', 'age': 25}\n",
      "{'_id': ObjectId('5f0556ef0c98e372695fe4ba'), 'first_name': 'Rama', 'last_name': 'Chandra', 'age': 35}\n"
     ]
    }
   ],
   "source": [
    "for record in empinfo.find({'first_name':{'$in':['Krishna','Rama']},'age':{'$lt':36}}):\n",
    "    print(record)#, is used for and symbol."
   ]
  },
  {
   "cell_type": "code",
   "execution_count": 44,
   "metadata": {},
   "outputs": [
    {
     "name": "stdout",
     "output_type": "stream",
     "text": [
      "{'_id': ObjectId('5f0556ef0c98e372695fe4b9'), 'first_name': 'Krishna', 'last_name': 'Naik', 'age': 25}\n"
     ]
    }
   ],
   "source": [
    "for record in empinfo.find({'$or':[{'first_name':'Krishna'},{'age':25}]}): # or command usage.\n",
    "    print(record)"
   ]
  },
  {
   "cell_type": "code",
   "execution_count": 45,
   "metadata": {},
   "outputs": [
    {
     "name": "stdout",
     "output_type": "stream",
     "text": [
      "{'_id': ObjectId('5f054a690c98e372695fe4b4')}\n",
      "{'_id': ObjectId('5f0555ca0c98e372695fe4b6')}\n",
      "{'_id': ObjectId('5f0556ef0c98e372695fe4b9'), 'age': 25}\n"
     ]
    }
   ],
   "source": [
    "for record in empinfo.find({'first_name':'Krishna'},{'age':25}): # or command usage.\n",
    "    print(record)"
   ]
  },
  {
   "cell_type": "code",
   "execution_count": 47,
   "metadata": {},
   "outputs": [],
   "source": [
    "import pymongo\n",
    "\n",
    "client=pymongo.MongoClient('mongodb://127.0.0.1:27017/')\n",
    "\n",
    "mydb=client['Employee']\n",
    "inventory=mydb.inventory\n"
   ]
  },
  {
   "cell_type": "code",
   "execution_count": 48,
   "metadata": {},
   "outputs": [
    {
     "data": {
      "text/plain": [
       "<pymongo.results.InsertManyResult at 0x1e2bab624c8>"
      ]
     },
     "execution_count": 48,
     "metadata": {},
     "output_type": "execute_result"
    }
   ],
   "source": [
    "inventory.insert_many([\n",
    "    {\"item\": \"canvas\",\n",
    "     \"qty\": 100,\n",
    "     \"size\": {\"h\": 28, \"w\": 35.5, \"uom\": \"cm\"},\n",
    "     \"status\": \"A\"},\n",
    "    {\"item\": \"journal\",\n",
    "     \"qty\": 25,\n",
    "     \"size\": {\"h\": 14, \"w\": 21, \"uom\": \"cm\"},\n",
    "     \"status\": \"A\"},\n",
    "    {\"item\": \"mat\",\n",
    "     \"qty\": 85,\n",
    "     \"size\": {\"h\": 27.9, \"w\": 35.5, \"uom\": \"cm\"},\n",
    "     \"status\": \"A\"},\n",
    "    {\"item\": \"mousepad\",\n",
    "     \"qty\": 25,\n",
    "     \"size\": {\"h\": 19, \"w\": 22.85, \"uom\": \"cm\"},\n",
    "     \"status\": \"P\"},\n",
    "    {\"item\": \"notebook\",\n",
    "     \"qty\": 50,\n",
    "     \"size\": {\"h\": 8.5, \"w\": 11, \"uom\": \"in\"},\n",
    "     \"status\": \"P\"},\n",
    "    {\"item\": \"paper\",\n",
    "     \"qty\": 100,\n",
    "     \"size\": {\"h\": 8.5, \"w\": 11, \"uom\": \"in\"},\n",
    "     \"status\": \"D\"},\n",
    "    {\"item\": \"planner\",\n",
    "     \"qty\": 75,\n",
    "     \"size\": {\"h\": 22.85, \"w\": 30, \"uom\": \"cm\"},\n",
    "     \"status\": \"D\"},\n",
    "    {\"item\": \"postcard\",\n",
    "     \"qty\": 45,\n",
    "     \"size\": {\"h\": 10, \"w\": 15.25, \"uom\": \"cm\"},\n",
    "     \"status\": \"A\"},\n",
    "    {\"item\": \"sketchbook\",\n",
    "     \"qty\": 80,\n",
    "     \"size\": {\"h\": 14, \"w\": 21, \"uom\": \"cm\"},\n",
    "     \"status\": \"A\"},\n",
    "    {\"item\": \"sketch pad\",\n",
    "     \"qty\": 95,\n",
    "     \"size\": {\"h\": 22.85, \"w\": 30.5, \"uom\": \"cm\"},\n",
    "     \"status\": \"A\"}])\n"
   ]
  },
  {
   "cell_type": "code",
   "execution_count": 50,
   "metadata": {},
   "outputs": [
    {
     "data": {
      "text/plain": [
       "<pymongo.results.UpdateResult at 0x1e2bb4ff7c8>"
      ]
     },
     "execution_count": 50,
     "metadata": {},
     "output_type": "execute_result"
    }
   ],
   "source": [
    "inventory.update_one({\"item\":\"sketch pad\"},\n",
    "                    {\"$set\":{\"size.uom\":\"m\",\"status\":\"P\"},\n",
    "                     \"$currentDate\":{\"lastmodified\":True}}\n",
    "                    )"
   ]
  },
  {
   "cell_type": "code",
   "execution_count": 55,
   "metadata": {},
   "outputs": [
    {
     "data": {
      "text/plain": [
       "<pymongo.results.UpdateResult at 0x1e2bb5318c8>"
      ]
     },
     "execution_count": 55,
     "metadata": {},
     "output_type": "execute_result"
    }
   ],
   "source": [
    "inventory.update_many(\n",
    "    {\"qty\":{\"$lt\":50}},\n",
    "    {\"$set\":{\"size.uom\":\"in\",\"status\":\"P\"},\n",
    "    \"$currentDate\":{\"LastModified\":True}}\n",
    ")"
   ]
  },
  {
   "cell_type": "code",
   "execution_count": null,
   "metadata": {},
   "outputs": [],
   "source": []
  }
 ],
 "metadata": {
  "kernelspec": {
   "display_name": "Python 3",
   "language": "python",
   "name": "python3"
  },
  "language_info": {
   "codemirror_mode": {
    "name": "ipython",
    "version": 3
   },
   "file_extension": ".py",
   "mimetype": "text/x-python",
   "name": "python",
   "nbconvert_exporter": "python",
   "pygments_lexer": "ipython3",
   "version": "3.7.4"
  }
 },
 "nbformat": 4,
 "nbformat_minor": 2
}
